{
 "cells": [
  {
   "cell_type": "code",
   "execution_count": 2,
   "metadata": {},
   "outputs": [],
   "source": [
    "import EEGAnalysis as ea\n",
    "# import h5py\n",
    "import numpy as np"
   ]
  },
  {
   "cell_type": "code",
   "execution_count": 3,
   "metadata": {},
   "outputs": [],
   "source": [
    "_data_dir = './Data'  ## set data folder\n",
    "ea_manager = ea.DataManager(_data_dir)  ## create data manager\n",
    "\n",
    "patient_id = 'fansulong'\n",
    "patient = ea_manager.create_patient(patient_id)  ## create new patient\n",
    "# patient = ea_manager.get_patient(patient_id)  ## load previous patient"
   ]
  },
  {
   "cell_type": "markdown",
   "metadata": {},
   "source": [
    "preview the names of the raw dataset"
   ]
  },
  {
   "cell_type": "code",
   "execution_count": 6,
   "metadata": {},
   "outputs": [
    {
     "name": "stdout",
     "output_type": "stream",
     "text": [
      "Help on method get_marker in module EEGAnalysis.datamanager:\n",
      "\n",
      "get_marker(name, paradigm=None) method of EEGAnalysis.datamanager.Patient instance\n",
      "\n"
     ]
    }
   ],
   "source": [
    "help(patient.get_marker)"
   ]
  },
  {
   "cell_type": "markdown",
   "metadata": {},
   "source": [
    "load raw (edf) format data"
   ]
  },
  {
   "cell_type": "code",
   "execution_count": 9,
   "metadata": {},
   "outputs": [],
   "source": [
    "b = a.load_raw('ZC', '180829-1')"
   ]
  },
  {
   "cell_type": "code",
   "execution_count": 14,
   "metadata": {},
   "outputs": [
    {
     "data": {
      "text/plain": [
       "array([[ -187,  -208,  -234, ...,     0,     0,     0],\n",
       "       [ -560,  -582,  -610, ...,     0,     0,     0],\n",
       "       [ -286,  -305,  -325, ...,     0,     0,     0],\n",
       "       ...,\n",
       "       [  118,   120,   121, ...,     0,     0,     0],\n",
       "       [   63,    67,    59, ...,     0,     0,     0],\n",
       "       [12331, 12334, 12336, ...,     0,     0,     0]], dtype=int16)"
      ]
     },
     "execution_count": 14,
     "metadata": {},
     "output_type": "execute_result"
    }
   ],
   "source": [
    "b.data"
   ]
  },
  {
   "cell_type": "code",
   "execution_count": null,
   "metadata": {},
   "outputs": [],
   "source": []
  }
 ],
 "metadata": {
  "kernelspec": {
   "display_name": "Python 3",
   "language": "python",
   "name": "python3"
  },
  "language_info": {
   "codemirror_mode": {
    "name": "ipython",
    "version": 3
   },
   "file_extension": ".py",
   "mimetype": "text/x-python",
   "name": "python",
   "nbconvert_exporter": "python",
   "pygments_lexer": "ipython3",
   "version": "3.6.8"
  }
 },
 "nbformat": 4,
 "nbformat_minor": 2
}
