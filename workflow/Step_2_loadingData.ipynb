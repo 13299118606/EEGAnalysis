{
 "cells": [
  {
   "cell_type": "code",
   "execution_count": 2,
   "metadata": {},
   "outputs": [],
   "source": [
    "import EEGAnalysis as ea\n",
    "# import h5py\n",
    "import numpy as np"
   ]
  },
  {
   "cell_type": "code",
   "execution_count": 4,
   "metadata": {},
   "outputs": [],
   "source": [
    "a = ea.DataManager('./Data')"
   ]
  },
  {
   "cell_type": "markdown",
   "metadata": {},
   "source": [
    "preview the names of the raw dataset"
   ]
  },
  {
   "cell_type": "code",
   "execution_count": 8,
   "metadata": {},
   "outputs": [
    {
     "data": {
      "text/plain": [
       "['180829-1.edf',\n",
       " '180829-2.edf',\n",
       " '180829-3.edf',\n",
       " '180831-3.edf',\n",
       " '180831-2.edf',\n",
       " '180831-1.edf',\n",
       " '180902-1.edf',\n",
       " '180902-3.edf',\n",
       " '180902-2.edf',\n",
       " '180904-1.edf',\n",
       " '180904-3.edf',\n",
       " '180904-2.edf',\n",
       " '180901-1.edf',\n",
       " '180903-3.edf',\n",
       " '180903-2.edf',\n",
       " '180901-2.edf',\n",
       " '180903-1.edf',\n",
       " '180901-3.edf',\n",
       " '180827-1.edf',\n",
       " '180827-2.edf',\n",
       " '180827-3.edf']"
      ]
     },
     "execution_count": 8,
     "metadata": {},
     "output_type": "execute_result"
    }
   ],
   "source": [
    "list(a.load_rawconfig('ZC').keys())"
   ]
  },
  {
   "cell_type": "markdown",
   "metadata": {},
   "source": [
    "load raw (edf) format data"
   ]
  },
  {
   "cell_type": "code",
   "execution_count": 9,
   "metadata": {},
   "outputs": [],
   "source": [
    "b = a.load_raw('ZC', '180829-1')"
   ]
  },
  {
   "cell_type": "code",
   "execution_count": 14,
   "metadata": {},
   "outputs": [
    {
     "data": {
      "text/plain": [
       "array([[ -187,  -208,  -234, ...,     0,     0,     0],\n",
       "       [ -560,  -582,  -610, ...,     0,     0,     0],\n",
       "       [ -286,  -305,  -325, ...,     0,     0,     0],\n",
       "       ...,\n",
       "       [  118,   120,   121, ...,     0,     0,     0],\n",
       "       [   63,    67,    59, ...,     0,     0,     0],\n",
       "       [12331, 12334, 12336, ...,     0,     0,     0]], dtype=int16)"
      ]
     },
     "execution_count": 14,
     "metadata": {},
     "output_type": "execute_result"
    }
   ],
   "source": [
    "b.data"
   ]
  },
  {
   "cell_type": "code",
   "execution_count": null,
   "metadata": {},
   "outputs": [],
   "source": []
  }
 ],
 "metadata": {
  "kernelspec": {
   "display_name": "Python 3",
   "language": "python",
   "name": "python3"
  },
  "language_info": {
   "codemirror_mode": {
    "name": "ipython",
    "version": 3
   },
   "file_extension": ".py",
   "mimetype": "text/x-python",
   "name": "python",
   "nbconvert_exporter": "python",
   "pygments_lexer": "ipython3",
   "version": "3.6.7"
  }
 },
 "nbformat": 4,
 "nbformat_minor": 2
}
