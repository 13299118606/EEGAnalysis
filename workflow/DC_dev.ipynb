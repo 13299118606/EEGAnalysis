{
 "cells": [
  {
   "cell_type": "code",
   "execution_count": 1,
   "metadata": {},
   "outputs": [],
   "source": [
    "import EEGAnalysis as ea\n",
    "\n",
    "import numpy as np\n",
    "import pandas as pd\n",
    "import h5py\n",
    "from pprint import pprint\n",
    "import os, re, json, shutil, random\n",
    "from hashlib import sha256\n",
    "from tqdm import tqdm\n",
    "\n",
    "import matplotlib.pyplot as plt\n",
    "from IPython import display"
   ]
  },
  {
   "cell_type": "code",
   "execution_count": 2,
   "metadata": {},
   "outputs": [],
   "source": [
    "_data_dir = './Data'  ## set data folder\n",
    "ea_manager = ea.DataManager(_data_dir)  ## create data manager\n",
    "\n",
    "patient_id = 'fansulong'\n",
    "patient = ea_manager.get_patient(patient_id)  ## load patient"
   ]
  },
  {
   "cell_type": "code",
   "execution_count": 3,
   "metadata": {},
   "outputs": [],
   "source": [
    "roi = (-2, 5)\n",
    "tspec = np.linspace(roi[0], roi[1], (roi[1] - roi[0]) * 2000)\n",
    "frange = np.logspace(np.log10(1), np.log10(150), 30)"
   ]
  },
  {
   "cell_type": "code",
   "execution_count": 4,
   "metadata": {},
   "outputs": [
    {
     "name": "stderr",
     "output_type": "stream",
     "text": [
      "100%|██████████| 73/73 [06:46<00:00,  5.86s/it]\n"
     ]
    }
   ],
   "source": [
    "for chidx in tqdm(range(len(patient._sgch_config['chidx']))):\n",
    "    entry = patient.load_isplit(chidx, '20190110-1')\n",
    "\n",
    "    _epoch = ea.create_1d_epoch_bymarker(entry['20190110-1']['value'], patient.get_marker('20190110-1')[:20], (-2,5), 2000)\n",
    "\n",
    "    _dwt_result = ea.decomposition.dwt.dwt(data=_epoch, frange=frange, fs=2000, reflection=True)\n",
    "    _pwr = ea.decomposition.dwt_power(dwtresult=_dwt_result, fs=2000, zscore=True)\n",
    "\n",
    "    plt.figure(figsize=(8,6))\n",
    "    plt.contourf(tspec, frange, _pwr, 80)\n",
    "    plt.clim((-3 * np.std(_pwr), 3 * np.std(_pwr)))\n",
    "#     plt.colorbar()\n",
    "#     plt.show()\n",
    "    plt.tight_layout()\n",
    "    plt.savefig('export/heatmap/ch_%03d.png'%chidx, bbox_inches='tight')\n",
    "    plt.close()\n"
   ]
  },
  {
   "cell_type": "code",
   "execution_count": 18,
   "metadata": {},
   "outputs": [],
   "source": [
    "loadedf = ea.io.loadedf\n",
    "detect_cross_pnt = ea.decomposition.detect_cross_pnt\n",
    "\n",
    "class _DEV(ea.datamanager.Patient):\n",
    "    def update_DC_marker(self, overwrite=False):\n",
    "        for item in self._raw_config.values():\n",
    "            if item['name'] in list(self._marker.file) and not overwrite:\n",
    "                continue\n",
    "            elif item['name'] in list(self._marker.file) and overwrite:\n",
    "                print('overwrite the markers of %s'%(item['name']))\n",
    "            else:\n",
    "                pass\n",
    "            \n",
    "            _edf = loadedf(item['file'], 'parse marker')\n",
    "            \n",
    "            try:\n",
    "                _grating_marker_ch = np.where([True if item == 'POL DC10' else False for item in _edf.channelLabels])[0][0]\n",
    "                _clapping_marker_ch = np.where([True if item == 'POL DC09' else False for item in _edf.channelLabels])[0][0]\n",
    "                print(\"file %s: DC10: %d\"%(item['name'], _grating_marker_ch))\n",
    "            except IndexError:\n",
    "                print('file %s has no DC channels'%item['name'])\n",
    "                continue\n",
    "            \n",
    "            _grating_trace = _edf.data[_grating_marker_ch] * _edf.physical_unit[_grating_marker_ch] / 1e6  # unit as Volt\n",
    "#             _clapping_trace = _edf.data[_clapping_marker_ch] * _edf.physical_unit[_clapping_marker_ch] / 1e6  # unit as Volt\n",
    "            \n",
    "            _grating_time = np.array(detect_cross_pnt(_grating_trace, 3, gap=_edf.fs)) / _edf.fs\n",
    "#             _clapping_time = np.array(detect_cross_pnt(_clapping_trace, 3, gap=_edf.fs)) / _edf.fs\n",
    "            \n",
    "            _grating_markers = [{'file':item['name'], 'paradigm':'', 'marker':_i, 'mbias':'0','note':''} for _i in _grating_time]\n",
    "#             _clapping_markers = [{'file':item['name'], 'paradigm':'', 'marker':_i, 'mbias':'0','note':''} for _i in _clapping_time]\n",
    "            \n",
    "            self._marker = self._marker.append(_grating_markers)\n",
    "            self._update_marker()\n",
    "            \n",
    "    def get_marker(self, name, paradigm=None):\n",
    "        if paradigm == None:\n",
    "            _temp = self._marker.marker[self._marker.file == name]+\\\n",
    "                self._marker.mbias[self._marker.file == name]\n",
    "            return _temp.values\n",
    "        else:\n",
    "            _temp = self._marker.marker[(self._marker.file == name)&(self._marker.paradigm == name)]+\\\n",
    "                self._marker.mbias[(self._marker.file == name)&(self._marker.paradigm == name)]\n",
    "            return _temp.values\n",
    "\n",
    "patient = _DEV('./Data', 'fansulong')\n",
    "\n"
   ]
  },
  {
   "cell_type": "code",
   "execution_count": 22,
   "metadata": {},
   "outputs": [
    {
     "data": {
      "text/plain": [
       "array([ 25.765,  30.817,  35.834,  40.871,  45.889,  50.922,  55.944,\n",
       "        60.964,  65.984,  71.003,  76.022,  81.041,  86.061,  91.079,\n",
       "        96.098, 101.136, 106.153, 111.172, 116.192, 121.212, 213.186,\n",
       "       223.213, 233.234, 243.256, 253.278, 263.3  , 273.32 , 283.344,\n",
       "       293.365, 303.387, 313.409, 323.43 , 333.451, 343.486, 353.511,\n",
       "       363.533, 373.555, 383.668, 393.615, 403.637])"
      ]
     },
     "execution_count": 22,
     "metadata": {},
     "output_type": "execute_result"
    }
   ],
   "source": [
    "patient.get_marker('20190110-1')"
   ]
  },
  {
   "cell_type": "code",
   "execution_count": null,
   "metadata": {},
   "outputs": [],
   "source": []
  }
 ],
 "metadata": {
  "kernelspec": {
   "display_name": "Python 3",
   "language": "python",
   "name": "python3"
  },
  "language_info": {
   "codemirror_mode": {
    "name": "ipython",
    "version": 3
   },
   "file_extension": ".py",
   "mimetype": "text/x-python",
   "name": "python",
   "nbconvert_exporter": "python",
   "pygments_lexer": "ipython3",
   "version": "3.6.7"
  }
 },
 "nbformat": 4,
 "nbformat_minor": 2
}
