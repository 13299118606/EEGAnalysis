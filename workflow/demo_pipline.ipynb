{
 "cells": [
  {
   "cell_type": "code",
   "execution_count": 1,
   "metadata": {},
   "outputs": [],
   "source": [
    "import EEGAnalysis as ea\n",
    "# import h5py\n",
    "# import numpy as np\n",
    "import matplotlib.pyplot as plt\n",
    "import re"
   ]
  },
  {
   "cell_type": "markdown",
   "metadata": {},
   "source": [
    "## Create Dataset and New Patient Folders"
   ]
  },
  {
   "cell_type": "code",
   "execution_count": 7,
   "metadata": {},
   "outputs": [],
   "source": [
    "_data_dir = './Data'  ## set data folder\n",
    "ea_manager = ea.DataManager(_data_dir)  ## create data manager\n",
    "\n",
    "patient_id = 'fansulong'\n",
    "patient_1 = ea_manager.create_patient(patient_id)  ## create new patient"
   ]
  },
  {
   "cell_type": "markdown",
   "metadata": {},
   "source": [
    "### import new raw data"
   ]
  },
  {
   "cell_type": "code",
   "execution_count": 10,
   "metadata": {},
   "outputs": [
    {
     "name": "stderr",
     "output_type": "stream",
     "text": [
      "100%|██████████| 3/3 [00:05<00:00,  1.86s/it]\n"
     ]
    }
   ],
   "source": [
    "_append_raw_dir = '/Volumes/shuttle/Day1/fansulong/1'\n",
    "patient_1 = ea_manager.update_raw_to_patient(patient_id, _append_raw_dir, copy=True, overwrite=False)"
   ]
  },
  {
   "cell_type": "markdown",
   "metadata": {},
   "source": [
    "### create isplit format data"
   ]
  },
  {
   "cell_type": "code",
   "execution_count": 11,
   "metadata": {
    "scrolled": true
   },
   "outputs": [
    {
     "name": "stderr",
     "output_type": "stream",
     "text": [
      "100%|██████████| 9/9 [00:48<00:00,  5.13s/it]\n"
     ]
    }
   ],
   "source": [
    "patient_1.create_isplit(compression_level=5)"
   ]
  },
  {
   "cell_type": "markdown",
   "metadata": {},
   "source": [
    "### check and update marker and mbias"
   ]
  },
  {
   "cell_type": "code",
   "execution_count": 12,
   "metadata": {
    "scrolled": true
   },
   "outputs": [
    {
     "name": "stdout",
     "output_type": "stream",
     "text": [
      "please use `DataManager.update_marker(patient_id, name, marker_array)` to update markers of the following files:.\n",
      "['20190110-2',\n",
      " '20190110-3',\n",
      " '20190110-1',\n",
      " '20190109-2',\n",
      " '20190109-3',\n",
      " '20190109-1',\n",
      " '20190108-1',\n",
      " '20190108-2',\n",
      " '20190108-3']\n"
     ]
    }
   ],
   "source": [
    "if patient_1.check_marker():\n",
    "    print('markers all set')"
   ]
  },
  {
   "cell_type": "code",
   "execution_count": 7,
   "metadata": {},
   "outputs": [
    {
     "name": "stdout",
     "output_type": "stream",
     "text": [
      "marker alread in record: 180910-1; use `overwrite` flag to overwrite.\n"
     ]
    }
   ],
   "source": [
    "patient_1.update_marker(name='180910-1', marker_array=[1,3,7,8], paradigm='1-5')"
   ]
  },
  {
   "cell_type": "code",
   "execution_count": 10,
   "metadata": {
    "scrolled": false
   },
   "outputs": [],
   "source": [
    "# patient_1.update_mbias()"
   ]
  },
  {
   "cell_type": "markdown",
   "metadata": {},
   "source": [
    "---"
   ]
  }
 ],
 "metadata": {
  "kernelspec": {
   "display_name": "Python 3",
   "language": "python",
   "name": "python3"
  },
  "language_info": {
   "codemirror_mode": {
    "name": "ipython",
    "version": 3
   },
   "file_extension": ".py",
   "mimetype": "text/x-python",
   "name": "python",
   "nbconvert_exporter": "python",
   "pygments_lexer": "ipython3",
   "version": "3.6.7"
  }
 },
 "nbformat": 4,
 "nbformat_minor": 2
}
