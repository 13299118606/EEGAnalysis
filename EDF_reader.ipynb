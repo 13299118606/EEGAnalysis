{
 "cells": [
  {
   "cell_type": "code",
   "execution_count": 97,
   "metadata": {},
   "outputs": [],
   "source": [
    "%matplotlib inline\n",
    "import numpy as np\n",
    "import re, os\n",
    "import matplotlib.pyplot as plt\n",
    "from scipy.io import loadmat, savemat\n",
    "\n",
    "def chunk(bdata, size=8, dtype=float):\n",
    "    if dtype == str:\n",
    "        return [dtype(bdata[size*idx:size*(idx+1)]).strip() for idx in range(len(bdata)//size)]\n",
    "    else:\n",
    "        return [dtype(bdata[size*idx:size*(idx+1)]) for idx in range(len(bdata)//size)]\n",
    "\n",
    "def strlist2type(dtype, strlist):\n",
    "    return [dtype(item) for item in strlist]\n",
    "\n",
    "class EDFData(object):\n",
    "\n",
    "    def __init__(self, filename, expname, fs=2000):\n",
    "        \n",
    "        self.expname = expname\n",
    "        \n",
    "        with open(filename, 'rb') as f:\n",
    "            \n",
    "            ## header meta\n",
    "            self.version = int(f.read(8).decode('ascii').strip())\n",
    "            self.patient_info = f.read(80).decode('ascii').strip()\n",
    "            self.record_info = f.read(80).decode('ascii').strip()\n",
    "            self.start_date = f.read(8).decode('ascii').strip()\n",
    "            self.start_time = f.read(8).decode('ascii').strip()\n",
    "            self.header_length = int(f.read(8).decode('ascii').strip())\n",
    "            \n",
    "            self._reserved = f.read(44).decode('ascii').strip()\n",
    "            \n",
    "            self.recordnum = int(f.read(8).decode('ascii').strip())\n",
    "            self.sampleduration = float(f.read(8).decode('ascii').strip())\n",
    "            self.nchannel = int(f.read(4).decode('ascii').strip())\n",
    "            \n",
    "            ## header group\n",
    "            self.channelLabels = chunk(f.read(16*self.nchannel).decode('ascii'), size=16, dtype=str)\n",
    "            self.channelType   = chunk(f.read(80*self.nchannel).decode('ascii'), size=80, dtype=str)\n",
    "            self.physical_dim  = chunk(f.read(8*self.nchannel).decode('ascii'),  size=8,  dtype=str)\n",
    "            \n",
    "            self.physical_min = chunk(f.read(8*self.nchannel), size=8, dtype=float)\n",
    "            self.physical_max = chunk(f.read(8*self.nchannel), size=8, dtype=float)\n",
    "            self.digital_min  = chunk(f.read(8*self.nchannel), size=8, dtype=int)\n",
    "            self.digital_max  = chunk(f.read(8*self.nchannel), size=8, dtype=int)\n",
    "            \n",
    "            self.prefiltering = chunk(f.read(80*self.nchannel).decode('ascii'), size=80, dtype=str)\n",
    "            \n",
    "            self.samples = chunk(f.read(8*self.nchannel).decode('ascii'), size=8, dtype=int)\n",
    "            try:\n",
    "                self.reserved_samples = chunk(f.read(32*self.nchannel).decode('ascii'), size=8, dtype=int)\n",
    "            except ValueError:\n",
    "                self.reserved_samples = [0 for _ in range(self.nchannel)]\n",
    "            \n",
    "            ## data\n",
    "            self.data = np.zeros((self.nchannel, self.recordnum * self.samples[0]), dtype='int16')\n",
    "            #self.reserved_data = np.zeros((self.nchannel, self.recordnum * self.reserved_samples[0]), dtype='int16')\n",
    "            \n",
    "            step = np.sum(self.samples)\n",
    "            for ri in range(self.recordnum):\n",
    "                record_data = f.read(step * 2)\n",
    "                self.data[:, self.samples[0]*(ri):self.samples[0]*(ri+1)] = np.ndarray((self.nchannel, self.samples[0]), buffer=record_data, dtype='int16')\n",
    "                \n",
    "            self.residual = f.read()  # residual should be empty\n",
    "            \n",
    "            ## \n",
    "            self.tspec = np.linspace(0, np.size(self.data, 1) / fs, np.size(self.data, 1))  # timeline\n",
    "            self.fs = self.samples[0] / self.sampleduration\n",
    "            self.physical_unit = (np.array(k.physical_max) - np.array(k.physical_min))/(np.array(k.digital_max) - np.array(k.digital_min))\n",
    "    \n",
    "    def splitinto(self, sgchdir):\n",
    "        if not os.path.isdir(sgchdir):\n",
    "            os.mkdir(sgchdir)\n",
    "            \n",
    "        for chidx in range(self.nchannel):\n",
    "            chdir = os.path.join(sgchdir, \"ch%03d\"%chidx)\n",
    "            if not os.path.isdir(chdir):\n",
    "                os.mkdir(chdir)\n",
    "            \n",
    "            chfilename = \"%s_ch%03d.mat\"%(self.expname, chidx)\n",
    "            savemat(os.path.join(chdir, chfilename), {\n",
    "                \"values\": self.data[chidx,:],\n",
    "                \"markers\": [0],\n",
    "                \"fs\": self.fs,\n",
    "                \"physical_unit\": self.physical_unit[chidx]\n",
    "            })\n",
    "            "
   ]
  },
  {
   "cell_type": "code",
   "execution_count": 127,
   "metadata": {},
   "outputs": [
    {
     "name": "stdout",
     "output_type": "stream",
     "text": [
      "CPU times: user 196 ms, sys: 242 ms, total: 439 ms\n",
      "Wall time: 614 ms\n"
     ]
    }
   ],
   "source": [
    "example = \"../Data/Yunfan Shu/EEG/EDF/16_5.edf\"\n",
    "\n",
    "%time k = EDFData(example, \"180816-5-5\")"
   ]
  },
  {
   "cell_type": "code",
   "execution_count": 128,
   "metadata": {},
   "outputs": [
    {
     "data": {
      "image/png": "[encoded data removed]",
      "text/plain": [
       "<Figure size 1440x144 with 1 Axes>"
      ]
     },
     "metadata": {
      "needs_background": "light"
     },
     "output_type": "display_data"
    }
   ],
   "source": [
    "plt.figure(figsize=(20,2))\n",
    "plt.plot(k.tspec, k.data[99,:])\n",
    "plt.xlim([0,77])\n",
    "plt.show()"
   ]
  },
  {
   "cell_type": "code",
   "execution_count": 129,
   "metadata": {},
   "outputs": [],
   "source": [
    "k.splitinto(\"../Data/Yunfan Shu/EEG/SgCh\")"
   ]
  },
  {
   "cell_type": "code",
   "execution_count": 130,
   "metadata": {},
   "outputs": [
    {
     "data": {
      "text/plain": [
       "0.1245"
      ]
     },
     "execution_count": 130,
     "metadata": {},
     "output_type": "execute_result"
    }
   ],
   "source": [
    "k.sampleduration"
   ]
  },
  {
   "cell_type": "code",
   "execution_count": 134,
   "metadata": {},
   "outputs": [
    {
     "data": {
      "text/plain": [
       "2000.0"
      ]
     },
     "execution_count": 134,
     "metadata": {},
     "output_type": "execute_result"
    }
   ],
   "source": [
    "k.samples[0] / k.sampleduration"
   ]
  },
  {
   "cell_type": "code",
   "execution_count": null,
   "metadata": {},
   "outputs": [],
   "source": []
  }
 ],
 "metadata": {
  "kernelspec": {
   "display_name": "Python 3",
   "language": "python",
   "name": "python3"
  },
  "language_info": {
   "codemirror_mode": {
    "name": "ipython",
    "version": 3
   },
   "file_extension": ".py",
   "mimetype": "text/x-python",
   "name": "python",
   "nbconvert_exporter": "python",
   "pygments_lexer": "ipython3",
   "version": "3.7.0"
  }
 },
 "nbformat": 4,
 "nbformat_minor": 2
}
